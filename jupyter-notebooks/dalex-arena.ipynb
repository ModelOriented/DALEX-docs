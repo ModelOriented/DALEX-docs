{
 "cells": [
  {
   "cell_type": "code",
   "execution_count": 1,
   "id": "constant-reset",
   "metadata": {},
   "outputs": [
    {
     "data": {
      "text/plain": [
       "'1.0.1.9000'"
      ]
     },
     "execution_count": 1,
     "metadata": {},
     "output_type": "execute_result"
    }
   ],
   "source": [
    "import dalex as dx\n",
    "\n",
    "import warnings\n",
    "warnings.filterwarnings('ignore')\n",
    "\n",
    "dx.__version__"
   ]
  },
  {
   "cell_type": "markdown",
   "id": "primary-picture",
   "metadata": {},
   "source": [
    "## data"
   ]
  },
  {
   "cell_type": "code",
   "execution_count": 2,
   "id": "suspended-shame",
   "metadata": {},
   "outputs": [],
   "source": [
    "train = dx.datasets.load_apartments()\n",
    "test = dx.datasets.load_apartments_test()\n",
    "\n",
    "X_train = train.drop(columns='m2_price')\n",
    "y_train = train[\"m2_price\"]\n",
    "\n",
    "X_test= test.drop(columns='m2_price')\n",
    "y_test = test[\"m2_price\"]"
   ]
  },
  {
   "cell_type": "code",
   "execution_count": 3,
   "id": "falling-cisco",
   "metadata": {},
   "outputs": [
    {
     "data": {
      "text/html": [
       "<div>\n",
       "<style scoped>\n",
       "    .dataframe tbody tr th:only-of-type {\n",
       "        vertical-align: middle;\n",
       "    }\n",
       "\n",
       "    .dataframe tbody tr th {\n",
       "        vertical-align: top;\n",
       "    }\n",
       "\n",
       "    .dataframe thead th {\n",
       "        text-align: right;\n",
       "    }\n",
       "</style>\n",
       "<table border=\"1\" class=\"dataframe\">\n",
       "  <thead>\n",
       "    <tr style=\"text-align: right;\">\n",
       "      <th></th>\n",
       "      <th>m2_price</th>\n",
       "      <th>construction_year</th>\n",
       "      <th>surface</th>\n",
       "      <th>floor</th>\n",
       "      <th>no_rooms</th>\n",
       "      <th>district</th>\n",
       "    </tr>\n",
       "  </thead>\n",
       "  <tbody>\n",
       "    <tr>\n",
       "      <th>1</th>\n",
       "      <td>5897</td>\n",
       "      <td>1953</td>\n",
       "      <td>25</td>\n",
       "      <td>3</td>\n",
       "      <td>1</td>\n",
       "      <td>Srodmiescie</td>\n",
       "    </tr>\n",
       "    <tr>\n",
       "      <th>2</th>\n",
       "      <td>1818</td>\n",
       "      <td>1992</td>\n",
       "      <td>143</td>\n",
       "      <td>9</td>\n",
       "      <td>5</td>\n",
       "      <td>Bielany</td>\n",
       "    </tr>\n",
       "    <tr>\n",
       "      <th>3</th>\n",
       "      <td>3643</td>\n",
       "      <td>1937</td>\n",
       "      <td>56</td>\n",
       "      <td>1</td>\n",
       "      <td>2</td>\n",
       "      <td>Praga</td>\n",
       "    </tr>\n",
       "    <tr>\n",
       "      <th>4</th>\n",
       "      <td>3517</td>\n",
       "      <td>1995</td>\n",
       "      <td>93</td>\n",
       "      <td>7</td>\n",
       "      <td>3</td>\n",
       "      <td>Ochota</td>\n",
       "    </tr>\n",
       "    <tr>\n",
       "      <th>5</th>\n",
       "      <td>3013</td>\n",
       "      <td>1992</td>\n",
       "      <td>144</td>\n",
       "      <td>6</td>\n",
       "      <td>5</td>\n",
       "      <td>Mokotow</td>\n",
       "    </tr>\n",
       "    <tr>\n",
       "      <th>...</th>\n",
       "      <td>...</td>\n",
       "      <td>...</td>\n",
       "      <td>...</td>\n",
       "      <td>...</td>\n",
       "      <td>...</td>\n",
       "      <td>...</td>\n",
       "    </tr>\n",
       "    <tr>\n",
       "      <th>996</th>\n",
       "      <td>6355</td>\n",
       "      <td>1921</td>\n",
       "      <td>44</td>\n",
       "      <td>2</td>\n",
       "      <td>2</td>\n",
       "      <td>Srodmiescie</td>\n",
       "    </tr>\n",
       "    <tr>\n",
       "      <th>997</th>\n",
       "      <td>3422</td>\n",
       "      <td>1921</td>\n",
       "      <td>48</td>\n",
       "      <td>10</td>\n",
       "      <td>2</td>\n",
       "      <td>Bemowo</td>\n",
       "    </tr>\n",
       "    <tr>\n",
       "      <th>998</th>\n",
       "      <td>3098</td>\n",
       "      <td>1980</td>\n",
       "      <td>85</td>\n",
       "      <td>3</td>\n",
       "      <td>3</td>\n",
       "      <td>Bemowo</td>\n",
       "    </tr>\n",
       "    <tr>\n",
       "      <th>999</th>\n",
       "      <td>4192</td>\n",
       "      <td>1942</td>\n",
       "      <td>36</td>\n",
       "      <td>7</td>\n",
       "      <td>1</td>\n",
       "      <td>Zoliborz</td>\n",
       "    </tr>\n",
       "    <tr>\n",
       "      <th>1000</th>\n",
       "      <td>3327</td>\n",
       "      <td>1992</td>\n",
       "      <td>112</td>\n",
       "      <td>6</td>\n",
       "      <td>5</td>\n",
       "      <td>Mokotow</td>\n",
       "    </tr>\n",
       "  </tbody>\n",
       "</table>\n",
       "<p>1000 rows × 6 columns</p>\n",
       "</div>"
      ],
      "text/plain": [
       "      m2_price  construction_year  surface  floor  no_rooms     district\n",
       "1         5897               1953       25      3         1  Srodmiescie\n",
       "2         1818               1992      143      9         5      Bielany\n",
       "3         3643               1937       56      1         2        Praga\n",
       "4         3517               1995       93      7         3       Ochota\n",
       "5         3013               1992      144      6         5      Mokotow\n",
       "...        ...                ...      ...    ...       ...          ...\n",
       "996       6355               1921       44      2         2  Srodmiescie\n",
       "997       3422               1921       48     10         2       Bemowo\n",
       "998       3098               1980       85      3         3       Bemowo\n",
       "999       4192               1942       36      7         1     Zoliborz\n",
       "1000      3327               1992      112      6         5      Mokotow\n",
       "\n",
       "[1000 rows x 6 columns]"
      ]
     },
     "execution_count": 3,
     "metadata": {},
     "output_type": "execute_result"
    }
   ],
   "source": [
    "train"
   ]
  },
  {
   "cell_type": "markdown",
   "id": "connected-possession",
   "metadata": {},
   "source": [
    "## preprocessing"
   ]
  },
  {
   "cell_type": "code",
   "execution_count": 4,
   "id": "fewer-producer",
   "metadata": {},
   "outputs": [],
   "source": [
    "from sklearn.pipeline import Pipeline\n",
    "from sklearn.preprocessing import OneHotEncoder, StandardScaler\n",
    "from sklearn.compose import ColumnTransformer\n",
    "numerical_features = X_train.select_dtypes(exclude=[object]).columns\n",
    "numerical_transformer = Pipeline(\n",
    "    steps=[\n",
    "        ('scaler', StandardScaler())\n",
    "    ]\n",
    ")\n",
    "\n",
    "categorical_features = X_train.select_dtypes(include=[object]).columns\n",
    "categorical_transformer = Pipeline(\n",
    "    steps=[\n",
    "        ('onehot', OneHotEncoder(handle_unknown='ignore'))\n",
    "    ]\n",
    ")\n",
    "\n",
    "preprocessor = ColumnTransformer(\n",
    "    transformers=[\n",
    "        ('num', numerical_transformer, numerical_features),\n",
    "        ('cat', categorical_transformer, categorical_features)\n",
    "    ]\n",
    ")"
   ]
  },
  {
   "cell_type": "markdown",
   "id": "after-binary",
   "metadata": {},
   "source": [
    "## model"
   ]
  },
  {
   "cell_type": "code",
   "execution_count": 5,
   "id": "developing-granny",
   "metadata": {},
   "outputs": [
    {
     "data": {
      "text/plain": [
       "Pipeline(steps=[('preprocessor',\n",
       "                 ColumnTransformer(transformers=[('num',\n",
       "                                                  Pipeline(steps=[('scaler',\n",
       "                                                                   StandardScaler())]),\n",
       "                                                  Index(['construction_year', 'surface', 'floor', 'no_rooms'], dtype='object')),\n",
       "                                                 ('cat',\n",
       "                                                  Pipeline(steps=[('onehot',\n",
       "                                                                   OneHotEncoder(handle_unknown='ignore'))]),\n",
       "                                                  Index(['district'], dtype='object'))])),\n",
       "                ('model', DecisionTreeRegressor())])"
      ]
     },
     "execution_count": 5,
     "metadata": {},
     "output_type": "execute_result"
    }
   ],
   "source": [
    "from sklearn.linear_model import ElasticNet\n",
    "from sklearn.tree import DecisionTreeRegressor\n",
    "\n",
    "model_elastic_net = Pipeline(\n",
    "    steps=[\n",
    "        ('preprocessor', preprocessor),\n",
    "        ('model', ElasticNet())\n",
    "    ]\n",
    ")\n",
    "model_elastic_net.fit(X=X_train, y=y_train)\n",
    "\n",
    "model_decision_tree = Pipeline(\n",
    "    steps=[\n",
    "        ('preprocessor', preprocessor),\n",
    "        ('model', DecisionTreeRegressor())\n",
    "    ]\n",
    ")\n",
    "model_decision_tree.fit(X=X_train, y=y_train)"
   ]
  },
  {
   "cell_type": "markdown",
   "id": "revolutionary-transmission",
   "metadata": {},
   "source": [
    "## explainer"
   ]
  },
  {
   "cell_type": "code",
   "execution_count": 6,
   "id": "extra-copper",
   "metadata": {},
   "outputs": [
    {
     "name": "stdout",
     "output_type": "stream",
     "text": [
      "Preparation of a new explainer is initiated\n",
      "\n",
      "  -> data              : 9000 rows 5 cols\n",
      "  -> target variable   : Parameter 'y' was a pandas.Series. Converted to a numpy.ndarray.\n",
      "  -> target variable   : 9000 values\n",
      "  -> model_class       : sklearn.linear_model._coordinate_descent.ElasticNet (default)\n",
      "  -> label             : Not specified, model's class short name will be used. (default)\n",
      "  -> predict function  : <function yhat_default at 0x0000013DA1982700> will be used (default)\n",
      "  -> predict function  : Accepts only pandas.DataFrame, numpy.ndarray causes problems.\n",
      "  -> predicted values  : min = 2.46e+03, mean = 3.5e+03, max = 4.66e+03\n",
      "  -> model type        : regression will be used (default)\n",
      "  -> residual function : difference between y and yhat (default)\n",
      "  -> residuals         : min = -9.47e+02, mean = 11.4, max = 2.16e+03\n",
      "  -> model_info        : package sklearn\n",
      "\n",
      "A new explainer has been created!\n",
      "Preparation of a new explainer is initiated\n",
      "\n",
      "  -> data              : 9000 rows 5 cols\n",
      "  -> target variable   : Parameter 'y' was a pandas.Series. Converted to a numpy.ndarray.\n",
      "  -> target variable   : 9000 values\n",
      "  -> model_class       : sklearn.tree._classes.DecisionTreeRegressor (default)\n",
      "  -> label             : Not specified, model's class short name will be used. (default)\n",
      "  -> predict function  : <function yhat_default at 0x0000013DA1982700> will be used (default)\n",
      "  -> predict function  : Accepts only pandas.DataFrame, numpy.ndarray causes problems.\n",
      "  -> predicted values  : min = 1.61e+03, mean = 3.51e+03, max = 6.6e+03\n",
      "  -> model type        : regression will be used (default)\n",
      "  -> residual function : difference between y and yhat (default)\n",
      "  -> residuals         : min = -1.19e+03, mean = 4.12, max = 9.57e+02\n",
      "  -> model_info        : package sklearn\n",
      "\n",
      "A new explainer has been created!\n"
     ]
    }
   ],
   "source": [
    "exp_elastic_net = dx.Explainer(model_elastic_net, data=X_test, y=y_test)\n",
    "exp_decision_tree = dx.Explainer(model_decision_tree, data=X_test, y=y_test)"
   ]
  },
  {
   "cell_type": "code",
   "execution_count": 7,
   "id": "altered-fairy",
   "metadata": {},
   "outputs": [
    {
     "data": {
      "text/html": [
       "<div>\n",
       "<style scoped>\n",
       "    .dataframe tbody tr th:only-of-type {\n",
       "        vertical-align: middle;\n",
       "    }\n",
       "\n",
       "    .dataframe tbody tr th {\n",
       "        vertical-align: top;\n",
       "    }\n",
       "\n",
       "    .dataframe thead th {\n",
       "        text-align: right;\n",
       "    }\n",
       "</style>\n",
       "<table border=\"1\" class=\"dataframe\">\n",
       "  <thead>\n",
       "    <tr style=\"text-align: right;\">\n",
       "      <th></th>\n",
       "      <th>mse</th>\n",
       "      <th>rmse</th>\n",
       "      <th>r2</th>\n",
       "      <th>mae</th>\n",
       "      <th>mad</th>\n",
       "    </tr>\n",
       "  </thead>\n",
       "  <tbody>\n",
       "    <tr>\n",
       "      <th>DecisionTreeRegressor</th>\n",
       "      <td>53643.160778</td>\n",
       "      <td>231.609932</td>\n",
       "      <td>0.93384</td>\n",
       "      <td>149.771889</td>\n",
       "      <td>82.0</td>\n",
       "    </tr>\n",
       "  </tbody>\n",
       "</table>\n",
       "</div>"
      ],
      "text/plain": [
       "<dalex.model_explanations._model_performance.object.ModelPerformance at 0x13da295e2e0>"
      ]
     },
     "execution_count": 7,
     "metadata": {},
     "output_type": "execute_result"
    }
   ],
   "source": [
    "exp_decision_tree.model_performance()"
   ]
  },
  {
   "cell_type": "markdown",
   "id": "conservative-canyon",
   "metadata": {},
   "source": [
    "## arena"
   ]
  },
  {
   "cell_type": "code",
   "execution_count": 8,
   "id": "comfortable-banks",
   "metadata": {},
   "outputs": [
    {
     "name": "stdout",
     "output_type": "stream",
     "text": [
      "https://arena.drwhy.ai/?data=http://127.0.0.1:9294/\n"
     ]
    }
   ],
   "source": [
    "# create empty Arena\n",
    "arena=dx.Arena()\n",
    "# push created explainer\n",
    "arena.push_model(exp_elastic_net)\n",
    "# push whole test dataset (including target column)\n",
    "arena.push_observations(test)\n",
    "# run server on port 9294\n",
    "arena.run_server(port=9294)"
   ]
  },
  {
   "cell_type": "code",
   "execution_count": 9,
   "id": "certified-advice",
   "metadata": {},
   "outputs": [],
   "source": [
    "arena.push_model(exp_decision_tree)"
   ]
  },
  {
   "cell_type": "code",
   "execution_count": 10,
   "id": "structural-infection",
   "metadata": {},
   "outputs": [
    {
     "name": "stdout",
     "output_type": "stream",
     "text": [
      "Preparation of a new explainer is initiated\n",
      "\n",
      "  -> data              : 9000 rows 5 cols\n",
      "  -> target variable   : Parameter 'y' was a pandas.Series. Converted to a numpy.ndarray.\n",
      "  -> target variable   : 9000 values\n",
      "  -> model_class       : lightgbm.sklearn.LGBMRegressor (default)\n",
      "  -> label             : Not specified, model's class short name will be used. (default)\n",
      "  -> predict function  : <function yhat_default at 0x0000013DA1982700> will be used (default)\n",
      "  -> predict function  : Accepts only pandas.DataFrame, numpy.ndarray causes problems.\n",
      "  -> predicted values  : min = 1.63e+03, mean = 3.5e+03, max = 6.43e+03\n",
      "  -> model type        : regression will be used (default)\n",
      "  -> residual function : difference between y and yhat (default)\n",
      "  -> residuals         : min = -5.02e+02, mean = 8.94, max = 7.27e+02\n",
      "  -> model_info        : package sklearn\n",
      "\n",
      "A new explainer has been created!\n"
     ]
    }
   ],
   "source": [
    "from lightgbm import LGBMRegressor\n",
    "model_gbm = Pipeline(\n",
    "    steps=[\n",
    "        ('preprocessor', preprocessor),\n",
    "        ('model', LGBMRegressor())\n",
    "    ]\n",
    ")\n",
    "model_gbm.fit(X=X_train, y=y_train)\n",
    "exp_gbm = dx.Explainer(model_gbm, data=X_test, y=y_test)"
   ]
  },
  {
   "cell_type": "code",
   "execution_count": 11,
   "id": "insured-covering",
   "metadata": {},
   "outputs": [],
   "source": [
    "arena.push_model(exp_gbm)"
   ]
  },
  {
   "cell_type": "code",
   "execution_count": 12,
   "id": "pediatric-canada",
   "metadata": {},
   "outputs": [
    {
     "name": "stdout",
     "output_type": "stream",
     "text": [
      "\n",
      "\u001b[1mSHAPValues\u001b[0m\n",
      "---------------------------------\n",
      "B: 10   #Number of random paths\n",
      "\n",
      "\u001b[1mFeatureImportance\u001b[0m\n",
      "---------------------------------\n",
      "N: None   #Number of observations to use. None for all.\n",
      "B: 10   #Number of permutation rounds to perform each variable\n",
      "\n",
      "\u001b[1mPartialDependence\u001b[0m\n",
      "---------------------------------\n",
      "grid_type: quantile   #grid type \"quantile\" or \"uniform\"\n",
      "grid_points: 101   #Maximum number of points for profile\n",
      "N: 500   #Number of observations to use. None for all.\n",
      "\n",
      "\u001b[1mAccumulatedDependence\u001b[0m\n",
      "---------------------------------\n",
      "grid_type: quantile   #grid type \"quantile\" or \"uniform\"\n",
      "grid_points: 101   #Maximum number of points for profile\n",
      "N: 500   #Number of observations to use. None for all.\n",
      "\n",
      "\u001b[1mCeterisParibus\u001b[0m\n",
      "---------------------------------\n",
      "grid_points: 101   #Maximum number of points for profile\n",
      "grid_type: quantile   #grid type \"quantile\" or \"uniform\"\n",
      "\n",
      "\u001b[1mBreakdown\u001b[0m\n",
      "---------------------------------\n",
      "\n",
      "\u001b[1mMetrics\u001b[0m\n",
      "---------------------------------\n",
      "\n",
      "\u001b[1mROC\u001b[0m\n",
      "---------------------------------\n",
      "grid_points: 101   #Maximum number of points for ROC curve\n",
      "\n",
      "\u001b[1mFairness\u001b[0m\n",
      "---------------------------------\n",
      "cutoffs: [0.05, 0.1, 0.15, 0.2, 0.25, 0.3, 0.35, 0.4, 0.45, 0.5, 0.55, 0.6, 0.65, 0.7, 0.75, 0.8, 0.85, 0.9, 0.95]   #List of tested cutoff levels\n"
     ]
    }
   ],
   "source": [
    "arena.print_options()"
   ]
  },
  {
   "cell_type": "code",
   "execution_count": 13,
   "id": "adjusted-customer",
   "metadata": {},
   "outputs": [],
   "source": [
    "# Chart-specific\n",
    "arena.set_option('SHAPValues', 'B', 25)"
   ]
  },
  {
   "cell_type": "code",
   "execution_count": 14,
   "id": "electronic-webmaster",
   "metadata": {},
   "outputs": [],
   "source": [
    "arena.stop_server()"
   ]
  },
  {
   "cell_type": "code",
   "execution_count": null,
   "id": "authentic-alarm",
   "metadata": {},
   "outputs": [],
   "source": []
  }
 ],
 "metadata": {
  "kernelspec": {
   "display_name": "Python 3",
   "language": "python",
   "name": "python3"
  },
  "language_info": {
   "codemirror_mode": {
    "name": "ipython",
    "version": 3
   },
   "file_extension": ".py",
   "mimetype": "text/x-python",
   "name": "python",
   "nbconvert_exporter": "python",
   "pygments_lexer": "ipython3",
   "version": "3.9.2"
  }
 },
 "nbformat": 4,
 "nbformat_minor": 5
}
